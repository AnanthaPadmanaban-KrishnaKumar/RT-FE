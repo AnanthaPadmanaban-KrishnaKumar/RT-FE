{
 "cells": [
  {
   "cell_type": "code",
   "execution_count": null,
   "id": "cf7a6542",
   "metadata": {},
   "outputs": [],
   "source": [
    "import io\n",
    "import tensorflow as tf"
   ]
  },
  {
   "cell_type": "code",
   "execution_count": null,
   "id": "ab88e17a",
   "metadata": {},
   "outputs": [],
   "source": [
    "import boto3\n",
    "from botocore.exceptions import NoCredentialsError\n",
    "\n",
    "# Set your credentials here\n",
    "aws_access_key_id = ''\n",
    "aws_secret_access_key = ''\n",
    "region_name = ''  # e.g., us-west-1\n",
    "\n",
    "# Create a session using your credentials\n",
    "session = boto3.Session(\n",
    "    aws_access_key_id=aws_access_key_id,\n",
    "    aws_secret_access_key=aws_secret_access_key,\n",
    "    region_name=region_name\n",
    ")\n",
    "\n",
    "# Then create an S3 client using this session\n",
    "s3_client = session.client('s3')\n",
    "\n",
    "# Now you can list your buckets\n",
    "try:\n",
    "    response = s3_client.list_buckets()\n",
    "    print(response)\n",
    "except NoCredentialsError:\n",
    "    print(\"Credentials are not available or invalid.\")"
   ]
  },
  {
   "cell_type": "code",
   "execution_count": null,
   "id": "0e9fa92a",
   "metadata": {},
   "outputs": [],
   "source": [
    "def _bytes_feature(value):\n",
    "    \"\"\"Returns a bytes_list from a string / byte.\"\"\"\n",
    "    if isinstance(value, type(tf.constant(0))):\n",
    "        value = value.numpy()\n",
    "    return tf.train.Feature(bytes_list=tf.train.BytesList(value=[value]))\n",
    "\n",
    "def _convert_to_example(image, mask):\n",
    "    \"\"\"Converts the given image and mask to a tf.train.Example message.\"\"\"\n",
    "    return tf.train.Example(features=tf.train.Features(feature={\n",
    "        'image': _bytes_feature(image),\n",
    "        'mask': _bytes_feature(mask)\n",
    "    }))\n"
   ]
  },
  {
   "cell_type": "code",
   "execution_count": null,
   "id": "3c18547e",
   "metadata": {},
   "outputs": [],
   "source": [
    "def list_s3_objects(s3_client, bucket_name, prefix):\n",
    "    paginator = s3_client.get_paginator('list_objects_v2')\n",
    "    page_iterator = paginator.paginate(Bucket=bucket_name, Prefix=prefix)\n",
    "\n",
    "    keys = []\n",
    "    for page in page_iterator:\n",
    "        if 'Contents' in page:\n",
    "            for obj in page['Contents']:\n",
    "                if not obj['Key'].endswith('/'):  # Exclude any 'folder' keys\n",
    "                    keys.append(obj['Key'])\n",
    "    return keys\n"
   ]
  },
  {
   "cell_type": "code",
   "execution_count": null,
   "id": "429fbf92",
   "metadata": {},
   "outputs": [],
   "source": [
    "# Set your bucket name and prefix\n",
    "s3_tfrecord_key = ''\n",
    "bucket_name = ''\n",
    "image_prefix = ''\n",
    "mask_prefix = ''\n",
    "local_tfrecord_file = ''\n",
    "\n",
    "# Retrieve image and mask keys\n",
    "image_keys = list_s3_objects(s3_client, bucket_name, image_prefix)\n",
    "mask_keys = list_s3_objects(s3_client, bucket_name, mask_prefix)"
   ]
  },
  {
   "cell_type": "code",
   "execution_count": null,
   "id": "bb8d1b40",
   "metadata": {},
   "outputs": [],
   "source": [
    "def write_tfrecords_to_s3(image_keys, mask_keys, bucket_name, s3_client, tfrecord_file_name, s3_tfrecord_key):\n",
    "    with tf.io.TFRecordWriter(tfrecord_file_name) as writer:\n",
    "        for image_key, mask_key in zip(image_keys, mask_keys):\n",
    "            image_content = s3_client.get_object(Bucket=bucket_name, Key=image_key)['Body'].read()\n",
    "            mask_content = s3_client.get_object(Bucket=bucket_name, Key=mask_key)['Body'].read()\n",
    "            \n",
    "            image_bytes = io.BytesIO(image_content)\n",
    "            mask_bytes = io.BytesIO(mask_content)\n",
    "            \n",
    "            example = _convert_to_example(image_bytes.getvalue(), mask_bytes.getvalue())\n",
    "            writer.write(example.SerializeToString())\n",
    "            print(f'Written file: {image_key}')\n",
    "            print(f'Written file: {mask_key}')\n",
    "            \n",
    "\n",
    "write_tfrecords_to_s3(image_keys, mask_keys, bucket_name, s3_client, local_tfrecord_file, s3_tfrecord_key)"
   ]
  },
  {
   "cell_type": "code",
   "execution_count": null,
   "id": "ca5e81b4",
   "metadata": {},
   "outputs": [],
   "source": []
  }
 ],
 "metadata": {
  "kernelspec": {
   "display_name": "akos",
   "language": "python",
   "name": "python3"
  },
  "language_info": {
   "codemirror_mode": {
    "name": "ipython",
    "version": 3
   },
   "file_extension": ".py",
   "mimetype": "text/x-python",
   "name": "python",
   "nbconvert_exporter": "python",
   "pygments_lexer": "ipython3",
   "version": "3.11.5"
  }
 },
 "nbformat": 4,
 "nbformat_minor": 5
}
